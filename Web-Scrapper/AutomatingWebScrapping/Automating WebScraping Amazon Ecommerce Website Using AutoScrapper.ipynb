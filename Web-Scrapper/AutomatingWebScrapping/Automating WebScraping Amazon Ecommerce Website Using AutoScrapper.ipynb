{
 "cells": [
  {
   "cell_type": "code",
   "execution_count": 7,
   "id": "85f33336",
   "metadata": {},
   "outputs": [
    {
     "name": "stdout",
     "output_type": "stream",
     "text": [
      "Requirement already satisfied: autoscraper in c:\\users\\kajal\\appdata\\local\\programs\\python\\python310\\lib\\site-packages (1.1.14)\n",
      "Requirement already satisfied: bs4 in c:\\users\\kajal\\appdata\\local\\programs\\python\\python310\\lib\\site-packages (from autoscraper) (0.0.1)\n",
      "Requirement already satisfied: requests in c:\\users\\kajal\\appdata\\local\\programs\\python\\python310\\lib\\site-packages (from autoscraper) (2.28.1)\n",
      "Requirement already satisfied: lxml in c:\\users\\kajal\\appdata\\local\\programs\\python\\python310\\lib\\site-packages (from autoscraper) (4.9.2)\n",
      "Requirement already satisfied: beautifulsoup4 in c:\\users\\kajal\\appdata\\local\\programs\\python\\python310\\lib\\site-packages (from bs4->autoscraper) (4.11.1)\n",
      "Requirement already satisfied: soupsieve>1.2 in c:\\users\\kajal\\appdata\\local\\programs\\python\\python310\\lib\\site-packages (from beautifulsoup4->bs4->autoscraper) (2.3.2.post1)\n",
      "Requirement already satisfied: certifi>=2017.4.17 in c:\\users\\kajal\\appdata\\local\\programs\\python\\python310\\lib\\site-packages (from requests->autoscraper) (2022.9.24)\n",
      "Requirement already satisfied: charset-normalizer<3,>=2 in c:\\users\\kajal\\appdata\\local\\programs\\python\\python310\\lib\\site-packages (from requests->autoscraper) (2.1.1)\n",
      "Requirement already satisfied: urllib3<1.27,>=1.21.1 in c:\\users\\kajal\\appdata\\local\\programs\\python\\python310\\lib\\site-packages (from requests->autoscraper) (1.26.12)\n",
      "Requirement already satisfied: idna<4,>=2.5 in c:\\users\\kajal\\appdata\\local\\programs\\python\\python310\\lib\\site-packages (from requests->autoscraper) (3.4)\n"
     ]
    },
    {
     "name": "stderr",
     "output_type": "stream",
     "text": [
      "WARNING: You are using pip version 21.2.3; however, version 22.3.1 is available.\n",
      "You should consider upgrading via the 'C:\\Users\\Kajal\\AppData\\Local\\Programs\\Python\\Python310\\python.exe -m pip install --upgrade pip' command.\n"
     ]
    }
   ],
   "source": [
    "!pip install autoscraper"
   ]
  },
  {
   "cell_type": "code",
   "execution_count": 9,
   "id": "cd9e5e95",
   "metadata": {},
   "outputs": [],
   "source": [
    "from autoscraper import AutoScraper\n"
   ]
  },
  {
   "cell_type": "code",
   "execution_count": 25,
   "id": "852425ca",
   "metadata": {},
   "outputs": [
    {
     "name": "stdout",
     "output_type": "stream",
     "text": [
      "['Amazon\\'s Choicefor \"headphones\"', 'boAt Rockerz 450 Bluetooth On Ear Headphones with Mic, Upto 15 Hours Playback, 40MM Drivers, Padded Ear Cushions, Integrated Controls and Dual Modes(Luscious Black)', 'boAt Rockerz 370 On Ear Bluetooth Headphones with Upto 12 Hours Playtime, Cozy Padded Earcups and Bluetooth v5.0, with Mic (Buoyant Black)', 'boAt Bassheads 100 in Ear Wired Earphones with Mic(Furious Red)', 'boAt Rockerz 550 Over Ear Bluetooth Headphones with Upto 20 Hours Playback, 50MM Drivers, Soft Padded Ear Cushions and Physical Noise Isolation, Without Mic (Black)', 'Sony Wh-Ch510 Bluetooth Wireless On Ear Headphones Up-To 35Hrs Playtime Lightweight, Type-C, Play/Pause Control, 30Mm Driver, Bt Version 5.0 & Voice Assistant Support For Mobiles, with mic - Blue', 'ZEBRONICS Zeb-Thunder Bluetooth Wireless Over Ear Headphone FM, mSD, 9 hrs Playback with Mic (Black)', 'boAt Rockerz 450 Bluetooth On Ear Headphones with Mic, Upto 15 Hours Playback, 40MM Drivers, Padded Ear Cushions, Integrated Controls and Dual Modes(Aqua Blue)', 'ZEBRONICS Zeb-Bro in Ear Wired Earphones with Mic, 3.5mm Audio Jack, 10mm Drivers, Phone/Tablet Compatible(Black)', 'JBL C50HI, Wired in Ear Headphones with Mic, One Button Multi-Function Remote, Lightweight & Comfortable fit (Black)', 'boAt Rockerz 450 Bluetooth On Ear Headphones with Mic, Upto 15 Hours Playback, 40MM Drivers, Padded Ear Cushions, Integrated Controls and Dual Modes(Hazel Beige)', 'boAt BassHeads 100 in-Ear Wired Headphones with Mic (Black)', 'boAt Rockerz 450 Pro Bluetooth Wireless On Ear Headphones with Mic with 70 Hours Battery, 40Mm Drivers, Bluetooth V5.0 Padded Ear Cushions, Easy Access Controls and Voice Assistant(Aqua Blue)', 'boAt Rockerz 255 Pro+ in-Ear Bluetooth Neckband with Upto 40 Hours Playback, ASAP\\x99 Charge, IPX7, Dual Pairing, BT v5.0, with Mic (Teal Green)', 'PTron Pride Lite HBE (High Bass Earphones) in Ear Wired Earphones with Mic, 10mm Powerful Driver for Stereo Audio, Noise Cancelling Headset with 1.2m Tangle-Free Cable & 3.5mm Aux (Grey)', 'boAt Rockerz 550 Bluetooth Wireless Over Ear Headphones with Upto 20 Hours Playback, 50MM Drivers, Soft Padded Ear Cushions and Physical Noise Isolation with Mic (Black Symphony)', 'ZEBRONICS Zeb-Thunder Wireless Bluetooth Over The Ear Headphone FM, mSD, 9 hrs Playback with Mic (Red)', '₹1,059', '₹3,990', '₹998', '₹2,499', '₹298', '₹999', '₹1,579', '₹4,999', '₹2,298', '₹4,990', '₹599', '₹1,399', '₹1,099', '₹129', '₹399', '₹499', '₹1,598', '₹149', '₹899', '₹1,199']\n"
     ]
    }
   ],
   "source": [
    "\n",
    "url = 'https://www.amazon.in/s?k=headphones'\n",
    "\n",
    "wanted_ = ['boAt Rockerz 370 On Ear Bluetooth Headphones with Upto 12 Hours Playtime, Cozy Padded Earcups and Bluetooth v5.0, with Mic (Buoyant Black)','₹998 ','(365,001)']\n",
    "\n",
    "scraper = AutoScraper()\n",
    "result = scraper.build(url, wanted_)\n",
    "print(result)\n",
    "\n"
   ]
  },
  {
   "cell_type": "code",
   "execution_count": 26,
   "id": "35785475",
   "metadata": {},
   "outputs": [
    {
     "data": {
      "text/plain": [
       "{'rule_xhec': ['Amazon\\'s Choicefor \"headphones\"',\n",
       "  'boAt Rockerz 450 Bluetooth On Ear Headphones with Mic, Upto 15 Hours Playback, 40MM Drivers, Padded Ear Cushions, Integrated Controls and Dual Modes(Luscious Black)',\n",
       "  'boAt Rockerz 370 On Ear Bluetooth Headphones with Upto 12 Hours Playtime, Cozy Padded Earcups and Bluetooth v5.0, with Mic (Buoyant Black)',\n",
       "  'boAt Bassheads 100 in Ear Wired Earphones with Mic(Furious Red)',\n",
       "  'boAt Rockerz 550 Over Ear Bluetooth Headphones with Upto 20 Hours Playback, 50MM Drivers, Soft Padded Ear Cushions and Physical Noise Isolation, Without Mic (Black)',\n",
       "  'Sony Wh-Ch510 Bluetooth Wireless On Ear Headphones Up-To 35Hrs Playtime Lightweight, Type-C, Play/Pause Control, 30Mm Driver, Bt Version 5.0 & Voice Assistant Support For Mobiles, with mic - Blue',\n",
       "  'ZEBRONICS Zeb-Thunder Bluetooth Wireless Over Ear Headphone FM, mSD, 9 hrs Playback with Mic (Black)',\n",
       "  'boAt Rockerz 450 Bluetooth On Ear Headphones with Mic, Upto 15 Hours Playback, 40MM Drivers, Padded Ear Cushions, Integrated Controls and Dual Modes(Aqua Blue)',\n",
       "  'ZEBRONICS Zeb-Bro in Ear Wired Earphones with Mic, 3.5mm Audio Jack, 10mm Drivers, Phone/Tablet Compatible(Black)',\n",
       "  'JBL C50HI, Wired in Ear Headphones with Mic, One Button Multi-Function Remote, Lightweight & Comfortable fit (Black)',\n",
       "  'boAt Rockerz 450 Bluetooth On Ear Headphones with Mic, Upto 15 Hours Playback, 40MM Drivers, Padded Ear Cushions, Integrated Controls and Dual Modes(Hazel Beige)',\n",
       "  'boAt BassHeads 100 in-Ear Wired Headphones with Mic (Black)',\n",
       "  'boAt Rockerz 450 Pro Bluetooth Wireless On Ear Headphones with Mic with 70 Hours Battery, 40Mm Drivers, Bluetooth V5.0 Padded Ear Cushions, Easy Access Controls and Voice Assistant(Aqua Blue)',\n",
       "  'boAt Rockerz 255 Pro+ in-Ear Bluetooth Neckband with Upto 40 Hours Playback, ASAP\\x99 Charge, IPX7, Dual Pairing, BT v5.0, with Mic (Teal Green)',\n",
       "  'PTron Pride Lite HBE (High Bass Earphones) in Ear Wired Earphones with Mic, 10mm Powerful Driver for Stereo Audio, Noise Cancelling Headset with 1.2m Tangle-Free Cable & 3.5mm Aux (Grey)',\n",
       "  'boAt Rockerz 550 Bluetooth Wireless Over Ear Headphones with Upto 20 Hours Playback, 50MM Drivers, Soft Padded Ear Cushions and Physical Noise Isolation with Mic (Black Symphony)',\n",
       "  'ZEBRONICS Zeb-Thunder Wireless Bluetooth Over The Ear Headphone FM, mSD, 9 hrs Playback with Mic (Red)'],\n",
       " 'rule_w2fc': ['₹1,059',\n",
       "  '₹3,990',\n",
       "  '₹998',\n",
       "  '₹2,499',\n",
       "  '₹298',\n",
       "  '₹999',\n",
       "  '₹1,579',\n",
       "  '₹4,999',\n",
       "  '₹2,298',\n",
       "  '₹4,990',\n",
       "  '₹599',\n",
       "  '₹1,399',\n",
       "  '₹1,099',\n",
       "  '₹3,990',\n",
       "  '₹129',\n",
       "  '₹399',\n",
       "  '₹499',\n",
       "  '₹999',\n",
       "  '₹1,099',\n",
       "  '₹3,990',\n",
       "  '₹298',\n",
       "  '₹999',\n",
       "  '₹1,598',\n",
       "  '₹3,990',\n",
       "  '₹1,099',\n",
       "  '₹3,990',\n",
       "  '₹149',\n",
       "  '₹899',\n",
       "  '₹1,579',\n",
       "  '₹4,999',\n",
       "  '₹599',\n",
       "  '₹1,199'],\n",
       " 'rule_h7ey': ['₹1,059',\n",
       "  '₹3,990',\n",
       "  '₹998',\n",
       "  '₹2,499',\n",
       "  '₹298',\n",
       "  '₹999',\n",
       "  '₹1,579',\n",
       "  '₹4,999',\n",
       "  '₹2,298',\n",
       "  '₹4,990',\n",
       "  '₹599',\n",
       "  '₹1,399',\n",
       "  '₹1,099',\n",
       "  '₹3,990',\n",
       "  '₹129',\n",
       "  '₹399',\n",
       "  '₹499',\n",
       "  '₹999',\n",
       "  '₹1,099',\n",
       "  '₹3,990',\n",
       "  '₹298',\n",
       "  '₹999',\n",
       "  '₹1,598',\n",
       "  '₹3,990',\n",
       "  '₹1,099',\n",
       "  '₹3,990',\n",
       "  '₹149',\n",
       "  '₹899',\n",
       "  '₹1,579',\n",
       "  '₹4,999',\n",
       "  '₹599',\n",
       "  '₹1,199']}"
      ]
     },
     "execution_count": 26,
     "metadata": {},
     "output_type": "execute_result"
    }
   ],
   "source": [
    "scraper.get_result_similar(url,grouped=True)\n"
   ]
  },
  {
   "cell_type": "code",
   "execution_count": 27,
   "id": "de47a059",
   "metadata": {},
   "outputs": [],
   "source": [
    "scraper.set_rule_aliases({'rule_xhec':'Title','rule_h7ey':'Price'})\n",
    "scraper.keep_rules(['rule_xhec','rule_h7ey'])\n",
    "scraper.save('amazon-search')"
   ]
  }
 ],
 "metadata": {
  "kernelspec": {
   "display_name": "Kdenv",
   "language": "python",
   "name": "kdenv"
  },
  "language_info": {
   "codemirror_mode": {
    "name": "ipython",
    "version": 3
   },
   "file_extension": ".py",
   "mimetype": "text/x-python",
   "name": "python",
   "nbconvert_exporter": "python",
   "pygments_lexer": "ipython3",
   "version": "3.10.0"
  }
 },
 "nbformat": 4,
 "nbformat_minor": 5
}
