{
 "cells": [
  {
   "cell_type": "code",
   "execution_count": 1,
   "id": "85f33336",
   "metadata": {},
   "outputs": [
    {
     "name": "stdout",
     "output_type": "stream",
     "text": [
      "Requirement already satisfied: autoscraper in c:\\users\\kajal\\appdata\\local\\programs\\python\\python310\\lib\\site-packages (1.1.14)\n",
      "Requirement already satisfied: bs4 in c:\\users\\kajal\\appdata\\local\\programs\\python\\python310\\lib\\site-packages (from autoscraper) (0.0.1)\n",
      "Requirement already satisfied: lxml in c:\\users\\kajal\\appdata\\local\\programs\\python\\python310\\lib\\site-packages (from autoscraper) (4.9.2)\n",
      "Requirement already satisfied: requests in c:\\users\\kajal\\appdata\\local\\programs\\python\\python310\\lib\\site-packages (from autoscraper) (2.28.1)\n",
      "Requirement already satisfied: beautifulsoup4 in c:\\users\\kajal\\appdata\\local\\programs\\python\\python310\\lib\\site-packages (from bs4->autoscraper) (4.11.1)\n",
      "Requirement already satisfied: soupsieve>1.2 in c:\\users\\kajal\\appdata\\local\\programs\\python\\python310\\lib\\site-packages (from beautifulsoup4->bs4->autoscraper) (2.3.2.post1)\n",
      "Requirement already satisfied: urllib3<1.27,>=1.21.1 in c:\\users\\kajal\\appdata\\local\\programs\\python\\python310\\lib\\site-packages (from requests->autoscraper) (1.26.12)\n",
      "Requirement already satisfied: idna<4,>=2.5 in c:\\users\\kajal\\appdata\\local\\programs\\python\\python310\\lib\\site-packages (from requests->autoscraper) (3.4)\n",
      "Requirement already satisfied: charset-normalizer<3,>=2 in c:\\users\\kajal\\appdata\\local\\programs\\python\\python310\\lib\\site-packages (from requests->autoscraper) (2.1.1)\n",
      "Requirement already satisfied: certifi>=2017.4.17 in c:\\users\\kajal\\appdata\\local\\programs\\python\\python310\\lib\\site-packages (from requests->autoscraper) (2022.9.24)\n"
     ]
    },
    {
     "name": "stderr",
     "output_type": "stream",
     "text": [
      "WARNING: You are using pip version 21.2.3; however, version 22.3.1 is available.\n",
      "You should consider upgrading via the 'C:\\Users\\Kajal\\AppData\\Local\\Programs\\Python\\Python310\\python.exe -m pip install --upgrade pip' command.\n"
     ]
    }
   ],
   "source": [
    "!pip install autoscraper"
   ]
  },
  {
   "cell_type": "code",
   "execution_count": 2,
   "id": "226cd161",
   "metadata": {},
   "outputs": [
    {
     "name": "stdout",
     "output_type": "stream",
     "text": [
      "Hi\n"
     ]
    }
   ],
   "source": [
    "print(\"Hi\")\n",
    "from autoscraper import AutoScraper\n"
   ]
  }
 ],
 "metadata": {
  "kernelspec": {
   "display_name": "Python 3",
   "language": "python",
   "name": "python3"
  },
  "language_info": {
   "codemirror_mode": {
    "name": "ipython",
    "version": 3
   },
   "file_extension": ".py",
   "mimetype": "text/x-python",
   "name": "python",
   "nbconvert_exporter": "python",
   "pygments_lexer": "ipython3",
   "version": "3.10.0"
  },
  "vscode": {
   "interpreter": {
    "hash": "2d3283b7ede15a3ba02d29b57611833951a6474bfc2330b92af0513ee46fd488"
   }
  }
 },
 "nbformat": 4,
 "nbformat_minor": 5
}
