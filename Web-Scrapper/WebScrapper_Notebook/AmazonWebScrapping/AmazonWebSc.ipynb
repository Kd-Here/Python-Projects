{
 "cells": [
  {
   "cell_type": "code",
   "execution_count": 1,
   "metadata": {},
   "outputs": [],
   "source": [
    "# Importing all files\n",
    "from bs4 import BeautifulSoup\n",
    "import requests\n",
    "import time\n",
    "import datetime\n",
    "import csv\n"
   ]
  },
  {
   "cell_type": "code",
   "execution_count": 2,
   "metadata": {},
   "outputs": [
    {
     "name": "stdout",
     "output_type": "stream",
     "text": [
      "Redmi 10A (Slate Grey, 4GB RAM, 64GB Storage) | 2 Ghz Octa Core Helio G25 | 5000 mAh Battery | Finger Print Sensor | Upto 5GB RAM with RAM Booster\n",
      "₹8,299.00\n"
     ]
    }
   ],
   "source": [
    "#Connecting with website\n",
    "\n",
    "\n",
    "url = 'https://www.amazon.in/Redmi-Storage-Battery-Finger-Booster/dp/B09XB7SRQ5/ref=pd_rhf_d_dp_s_pd_crcbs_sccl_2_3/261-1490718-8429552?pd_rd_w=6cMW1&content-id=amzn1.sym.5d8cdd8d-be53-4391-b82d-376d461d85f0&pf_rd_p=5d8cdd8d-be53-4391-b82d-376d461d85f0&pf_rd_r=TNRCS3307TAK5YC28S27&pd_rd_wg=WRSqG&pd_rd_r=152c2c91-83d9-4cf8-b177-ebd4666cf85c&pd_rd_i=B09XB7SRQ5&psc=1'\n",
    "# https://httpbin.org/get \n",
    "# From this link you get your User-Agent info\n",
    "private_info = { \"User-Agent\": \"Mozilla/5.0 (Windows NT 10.0; Win64; x64) AppleWebKit/537.36 (KHTML, like Gecko) Chrome/108.0.0.0 Safari/537.36\"}\n",
    "\n",
    "\n",
    "page = requests.get(url,headers = private_info)\n",
    "\n",
    "soup = BeautifulSoup(page.content,'html.parser')\n",
    "# soup2 = soup.prettify()\n",
    "# print(soup2)\n",
    "\n",
    "\n",
    "product_title = soup.find(id='productTitle').text.strip()\n",
    "print(product_title.strip())\n",
    "price = soup.find(class_=\"a-offscreen\").text.strip()\n",
    "print(price.strip())\n"
   ]
  },
  {
   "cell_type": "code",
   "execution_count": 3,
   "metadata": {},
   "outputs": [],
   "source": [
    "header = ['Product','Price']\n",
    "data = [product_title,price]\n",
    "\n",
    "# with open('products.csv', 'w', newline='',encoding=\"utf-8\") as file:\n",
    "#     writer = csv.writer(file)\n",
    "#     writer.writerow(header)\n",
    "#     writer.writerow(data)\n",
    "# # w is representing write function but if you wanted to store the data in periodic format use append\n",
    "\n",
    "with open('products.csv', 'a+', newline='',encoding=\"utf-8\") as file:\n",
    "    writer = csv.writer(file)\n",
    "    writer.writerow(header)\n",
    "    writer.writerow(data)\n"
   ]
  }
 ],
 "metadata": {
  "kernelspec": {
   "display_name": "Python 3",
   "language": "python",
   "name": "python3"
  },
  "language_info": {
   "codemirror_mode": {
    "name": "ipython",
    "version": 3
   },
   "file_extension": ".py",
   "mimetype": "text/x-python",
   "name": "python",
   "nbconvert_exporter": "python",
   "pygments_lexer": "ipython3",
   "version": "3.10.0 (tags/v3.10.0:b494f59, Oct  4 2021, 19:00:18) [MSC v.1929 64 bit (AMD64)]"
  },
  "orig_nbformat": 4,
  "vscode": {
   "interpreter": {
    "hash": "2d3283b7ede15a3ba02d29b57611833951a6474bfc2330b92af0513ee46fd488"
   }
  }
 },
 "nbformat": 4,
 "nbformat_minor": 2
}
